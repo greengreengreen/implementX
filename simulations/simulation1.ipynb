{
 "cells": [
  {
   "cell_type": "code",
   "execution_count": 1,
   "source": [
    "import numpy as np \n",
    "import matplotlib.pyplot as plt\n",
    "from random_number import RandomNumber"
   ],
   "outputs": [],
   "metadata": {}
  },
  {
   "cell_type": "code",
   "execution_count": 2,
   "source": [
    "rn = RandomNumber(10000, 119)"
   ],
   "outputs": [],
   "metadata": {}
  },
  {
   "cell_type": "code",
   "execution_count": 3,
   "source": [
    "arr = [rn.get_num() for i in range(10000)]"
   ],
   "outputs": [],
   "metadata": {}
  },
  {
   "cell_type": "code",
   "execution_count": 4,
   "source": [
    "arr[:10]"
   ],
   "outputs": [
    {
     "output_type": "execute_result",
     "data": {
      "text/plain": [
       "[9141, 1999, 2461, 1479, 2181, 559, 6301, 1239, 2821, 5519]"
      ]
     },
     "metadata": {},
     "execution_count": 4
    }
   ],
   "metadata": {}
  },
  {
   "cell_type": "code",
   "execution_count": 10,
   "source": [
    "plt.hist(arr, bins=100)"
   ],
   "outputs": [
    {
     "output_type": "execute_result",
     "data": {
      "text/plain": [
       "(array([120.,  80., 120.,  80., 120.,  80., 120.,  80., 120.,  80., 100.,\n",
       "        100., 100., 100., 100., 100., 100., 100., 100., 100., 100., 100.,\n",
       "        100., 100., 100., 100., 100., 100., 100., 100., 100., 100., 100.,\n",
       "        100., 100., 100., 100., 100., 100., 100., 100., 100., 100., 100.,\n",
       "        100., 100., 100., 100., 100., 100., 100., 100., 100., 100., 100.,\n",
       "        100., 100., 100., 100., 100., 100., 100., 100., 100., 100., 100.,\n",
       "        100., 100., 100., 100., 100., 100., 100., 100., 100., 100., 100.,\n",
       "        100., 100., 100., 100., 100., 100., 100., 100., 100., 100., 100.,\n",
       "        100., 100.,  80., 120.,  80., 120.,  80., 120.,  80., 120.,  80.,\n",
       "        120.]),\n",
       " array([  21.  ,  120.78,  220.56,  320.34,  420.12,  519.9 ,  619.68,\n",
       "         719.46,  819.24,  919.02, 1018.8 , 1118.58, 1218.36, 1318.14,\n",
       "        1417.92, 1517.7 , 1617.48, 1717.26, 1817.04, 1916.82, 2016.6 ,\n",
       "        2116.38, 2216.16, 2315.94, 2415.72, 2515.5 , 2615.28, 2715.06,\n",
       "        2814.84, 2914.62, 3014.4 , 3114.18, 3213.96, 3313.74, 3413.52,\n",
       "        3513.3 , 3613.08, 3712.86, 3812.64, 3912.42, 4012.2 , 4111.98,\n",
       "        4211.76, 4311.54, 4411.32, 4511.1 , 4610.88, 4710.66, 4810.44,\n",
       "        4910.22, 5010.  , 5109.78, 5209.56, 5309.34, 5409.12, 5508.9 ,\n",
       "        5608.68, 5708.46, 5808.24, 5908.02, 6007.8 , 6107.58, 6207.36,\n",
       "        6307.14, 6406.92, 6506.7 , 6606.48, 6706.26, 6806.04, 6905.82,\n",
       "        7005.6 , 7105.38, 7205.16, 7304.94, 7404.72, 7504.5 , 7604.28,\n",
       "        7704.06, 7803.84, 7903.62, 8003.4 , 8103.18, 8202.96, 8302.74,\n",
       "        8402.52, 8502.3 , 8602.08, 8701.86, 8801.64, 8901.42, 9001.2 ,\n",
       "        9100.98, 9200.76, 9300.54, 9400.32, 9500.1 , 9599.88, 9699.66,\n",
       "        9799.44, 9899.22, 9999.  ]),\n",
       " <BarContainer object of 100 artists>)"
      ]
     },
     "metadata": {},
     "execution_count": 10
    },
    {
     "output_type": "display_data",
     "data": {
      "text/plain": [
       "<Figure size 432x288 with 1 Axes>"
      ],
      "image/png": "[encoded data removed]"
     },
     "metadata": {
      "needs_background": "light"
     }
    }
   ],
   "metadata": {}
  },
  {
   "cell_type": "code",
   "execution_count": null,
   "source": [],
   "outputs": [],
   "metadata": {}
  }
 ],
 "metadata": {
  "orig_nbformat": 4,
  "language_info": {
   "name": "python",
   "version": "3.8.0",
   "mimetype": "text/x-python",
   "codemirror_mode": {
    "name": "ipython",
    "version": 3
   },
   "pygments_lexer": "ipython3",
   "nbconvert_exporter": "python",
   "file_extension": ".py"
  },
  "kernelspec": {
   "name": "python3",
   "display_name": "Python 3.8.0 64-bit"
  },
  "interpreter": {
   "hash": "aee8b7b246df8f9039afb4144a1f6fd8d2ca17a180786b69acc140d282b71a49"
  }
 },
 "nbformat": 4,
 "nbformat_minor": 2
}