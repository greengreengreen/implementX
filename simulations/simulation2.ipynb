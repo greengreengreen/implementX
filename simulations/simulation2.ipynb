{
 "cells": [
  {
   "cell_type": "markdown",
   "source": [
    "dices with faces= [a, b,c] distribution=[0.2, 0.5,0.3], write a simulator to simulate throwing dices with probs following given distributions. "
   ],
   "metadata": {}
  },
  {
   "cell_type": "code",
   "execution_count": 1,
   "source": [
    "import numpy as np "
   ],
   "outputs": [],
   "metadata": {}
  },
  {
   "cell_type": "code",
   "execution_count": 25,
   "source": [
    "def simulation(times): \n",
    "    faces = ['a', 'b', 'c']\n",
    "    probs = [0.2, 0.5, 0.3]\n",
    "    res = np.random.choice(faces, times, p=probs)\n",
    "    return res "
   ],
   "outputs": [],
   "metadata": {}
  },
  {
   "cell_type": "code",
   "execution_count": 27,
   "source": [
    "from collections import Counter \n",
    "total = 1000000\n",
    "res = simulation(total)\n",
    "cnt = Counter(res)\n",
    "for key in sorted(cnt): \n",
    "    print(key, cnt[key]/total)"
   ],
   "outputs": [
    {
     "output_type": "stream",
     "name": "stdout",
     "text": [
      "a 0.332501\n",
      "b 0.333378\n",
      "c 0.334121\n"
     ]
    }
   ],
   "metadata": {}
  },
  {
   "cell_type": "code",
   "execution_count": null,
   "source": [],
   "outputs": [],
   "metadata": {}
  }
 ],
 "metadata": {
  "orig_nbformat": 4,
  "language_info": {
   "name": "python",
   "version": "3.8.0",
   "mimetype": "text/x-python",
   "codemirror_mode": {
    "name": "ipython",
    "version": 3
   },
   "pygments_lexer": "ipython3",
   "nbconvert_exporter": "python",
   "file_extension": ".py"
  },
  "kernelspec": {
   "name": "python3",
   "display_name": "Python 3.8.0 64-bit"
  },
  "interpreter": {
   "hash": "aee8b7b246df8f9039afb4144a1f6fd8d2ca17a180786b69acc140d282b71a49"
  }
 },
 "nbformat": 4,
 "nbformat_minor": 2
}