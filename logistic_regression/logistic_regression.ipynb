{
 "cells": [
  {
   "cell_type": "code",
   "execution_count": 1,
   "source": [
    "import numpy as np \n",
    "from sklearn.datasets import load_breast_cancer     "
   ],
   "outputs": [],
   "metadata": {}
  },
  {
   "cell_type": "code",
   "execution_count": 2,
   "source": [
    "X, y = load_breast_cancer(return_X_y=True)\n",
    "from sklearn import preprocessing \n",
    "scaler = preprocessing.StandardScaler().fit(X)\n",
    "X = scaler.fit_transform(X)\n",
    "y = np.expand_dims(y, axis=1)"
   ],
   "outputs": [],
   "metadata": {}
  },
  {
   "cell_type": "code",
   "execution_count": 3,
   "source": [
    "# use gradient descent \n",
    "from LogisticRegression import LogisticRegression\n",
    "lr = LogisticRegression()\n",
    "loss, W, b = lr.train(X, y)\n",
    "pred = lr.predict(X, W, b)\n",
    "n = X.shape[0]\n",
    "acc = np.sum(pred == y) / n \n",
    "print(\"prediction accuracy is %f\" % acc)\n",
    "gradient_loss_history = loss \n"
   ],
   "outputs": [
    {
     "output_type": "stream",
     "name": "stdout",
     "text": [
      "prediction accuracy is 0.957821\n"
     ]
    }
   ],
   "metadata": {}
  },
  {
   "cell_type": "code",
   "execution_count": 4,
   "source": [
    "# use newton descent \n",
    "lr = LogisticRegression()\n",
    "loss, W, b = lr.train(X, y, method=\"newton_method\")\n",
    "pred = lr.predict(X, W, b)\n",
    "n = X.shape[0]\n",
    "acc = np.sum(pred == y) / n \n",
    "print(\"prediction accuracy is %f\" % acc)\n",
    "newton_loss_history = loss"
   ],
   "outputs": [
    {
     "output_type": "stream",
     "name": "stdout",
     "text": [
      "prediction accuracy is 0.989455\n"
     ]
    }
   ],
   "metadata": {}
  },
  {
   "cell_type": "code",
   "execution_count": 5,
   "source": [
    "import matplotlib.pyplot as plt \n",
    "plt.plot(np.arange(len(newton_loss_history)), newton_loss_history, label=\"Newton Loss\")\n",
    "plt.plot(np.arange(len(gradient_loss_history)), gradient_loss_history, label=\"Gradient Loss\")\n",
    "plt.xlim([0, 100])\n",
    "plt.legend()"
   ],
   "outputs": [
    {
     "output_type": "execute_result",
     "data": {
      "text/plain": [
       "<matplotlib.legend.Legend at 0x7ff1998c86d0>"
      ]
     },
     "metadata": {},
     "execution_count": 5
    },
    {
     "output_type": "display_data",
     "data": {
      "text/plain": [
       "<Figure size 432x288 with 1 Axes>"
      ],
      "image/png": "[encoded data removed]"
     },
     "metadata": {
      "needs_background": "light"
     }
    }
   ],
   "metadata": {}
  },
  {
   "cell_type": "code",
   "execution_count": null,
   "source": [],
   "outputs": [],
   "metadata": {}
  }
 ],
 "metadata": {
  "orig_nbformat": 4,
  "language_info": {
   "name": "python",
   "version": "3.8.0",
   "mimetype": "text/x-python",
   "codemirror_mode": {
    "name": "ipython",
    "version": 3
   },
   "pygments_lexer": "ipython3",
   "nbconvert_exporter": "python",
   "file_extension": ".py"
  },
  "kernelspec": {
   "name": "python3",
   "display_name": "Python 3.8.0 64-bit"
  },
  "interpreter": {
   "hash": "aee8b7b246df8f9039afb4144a1f6fd8d2ca17a180786b69acc140d282b71a49"
  }
 },
 "nbformat": 4,
 "nbformat_minor": 2
}